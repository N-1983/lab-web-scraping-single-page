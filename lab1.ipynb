{
 "cells": [
  {
   "cell_type": "markdown",
   "metadata": {},
   "source": [
    "1- Take a song name\n",
    "2- Check if the name is in your new generated dataset\n",
    "3- If it is in the dataset, return a different song form the same dataset. If not, don’t return anything."
   ]
  },
  {
   "cell_type": "code",
   "execution_count": 4,
   "metadata": {},
   "outputs": [],
   "source": [
    "from bs4 import BeautifulSoup\n",
    "import requests\n",
    "import pandas as pd\n",
    "import random"
   ]
  },
  {
   "attachments": {
    "Screenshot%202021-05-02%20at%2015.48.08.png": {
     "image/png": "[encoded data removed]"
    }
   },
   "cell_type": "markdown",
   "metadata": {},
   "source": [
    "![Screenshot%202021-05-02%20at%2015.48.08.png](attachment:Screenshot%202021-05-02%20at%2015.48.08.png)"
   ]
  },
  {
   "cell_type": "code",
   "execution_count": 5,
   "metadata": {},
   "outputs": [],
   "source": [
    "url = ('https://www.billboard.com/charts/hot-100')"
   ]
  },
  {
   "cell_type": "code",
   "execution_count": 6,
   "metadata": {},
   "outputs": [
    {
     "data": {
      "text/plain": [
       "200"
      ]
     },
     "execution_count": 6,
     "metadata": {},
     "output_type": "execute_result"
    }
   ],
   "source": [
    "#download html with a get request\n",
    "response = requests.get(url)\n",
    "response.status_code#code is 200"
   ]
  },
  {
   "cell_type": "code",
   "execution_count": 7,
   "metadata": {},
   "outputs": [],
   "source": [
    "#parse html (create the 'soup')\n",
    "soup = BeautifulSoup(response.content, \"html.parser\")"
   ]
  },
  {
   "cell_type": "code",
   "execution_count": 8,
   "metadata": {},
   "outputs": [
    {
     "data": {
      "text/plain": [
       "{'tags': ['hide-output']}"
      ]
     },
     "execution_count": 8,
     "metadata": {},
     "output_type": "execute_result"
    }
   ],
   "source": [
    "# go to the selector elememt then select what you want \n",
    "# go to html code based on your selection then right click and copy \n",
    "# as you see copy selector under copy \n",
    "#  retrieve/extract the desired info (here, you'll paste the \"Selector\" you copied before to get the element that belongs to the top song)\n",
    "soup.select(\"span.chart-element__information__song.text--truncate.color--primary\")\n",
    "{\n",
    "    \"tags\": [\n",
    "        \"hide-output\",\n",
    "    ]\n",
    "}"
   ]
  },
  {
   "cell_type": "code",
   "execution_count": 9,
   "metadata": {},
   "outputs": [
    {
     "data": {
      "text/plain": [
       "'Rapstar'"
      ]
     },
     "execution_count": 9,
     "metadata": {},
     "output_type": "execute_result"
    }
   ],
   "source": [
    "soup.select(\"span.chart-element__information__song.text--truncate.color--primary\")[0].get_text()"
   ]
  },
  {
   "cell_type": "code",
   "execution_count": 10,
   "metadata": {},
   "outputs": [
    {
     "data": {
      "text/plain": [
       "{'tags': ['hide-output']}"
      ]
     },
     "execution_count": 10,
     "metadata": {},
     "output_type": "execute_result"
    }
   ],
   "source": [
    "soup.select(\"span.chart-element__information__artist.text--truncate.color--secondary\")\n",
    "{\n",
    "    \"tags\": [\n",
    "        \"hide-output\",\n",
    "    ]\n",
    "}"
   ]
  },
  {
   "cell_type": "code",
   "execution_count": 11,
   "metadata": {},
   "outputs": [
    {
     "data": {
      "text/plain": [
       "'Polo G'"
      ]
     },
     "execution_count": 11,
     "metadata": {},
     "output_type": "execute_result"
    }
   ],
   "source": [
    "soup.select(\"span.chart-element__information__artist\")[0].get_text()\n"
   ]
  },
  {
   "cell_type": "code",
   "execution_count": 12,
   "metadata": {},
   "outputs": [],
   "source": [
    "num_artist = len(soup.select(\"span.chart-element__information__artist\"))\n",
    "num_songs = len(soup.select(\"span.chart-element__information__song.text--truncate.color--primary\"))"
   ]
  },
  {
   "cell_type": "code",
   "execution_count": 13,
   "metadata": {},
   "outputs": [],
   "source": [
    "title = []\n",
    "artist = []\n",
    "\n",
    "for i in range(num_songs):\n",
    "    title.append(soup.select(\"span.chart-element__information > span.chart-element__information__song.text--truncate.color--primary\")[i].get_text()) \n",
    "for j in range(num_artist):    \n",
    "    artist.append(soup.select(\"span.chart-element__information__artist\")[j].get_text())\n",
    "    \n",
    "        "
   ]
  },
  {
   "cell_type": "code",
   "execution_count": 14,
   "metadata": {},
   "outputs": [
    {
     "name": "stdout",
     "output_type": "stream",
     "text": [
      "['Rapstar', 'Leave The Door Open', 'Peaches', 'Montero (Call Me By Your Name)', 'Levitating', 'Save Your Tears', 'Astronaut In The Ocean', 'Kiss Me More', 'Up', 'Drivers License', 'Deja Vu', 'Solid', 'Blinding Lights', 'Beat Box', 'Best Friend', 'Calling My Phone', 'What You Know Bout Love', 'Ski', 'Mood', 'Heartbreak Anniversary', 'The Good Ones', 'Beautiful Mistakes', 'Back In Blood', 'Go Crazy', 'You Broke Me First.', '34+35', \"My Ex's Best Friend\", \"What's Next\", 'Dakiti', 'Therefore I Am', 'Without You', 'On Me', 'Positions', \"You're Mines Still\", 'Forever After All', 'Wants And Needs', 'Track Star', \"We're Good\", 'Heat Waves', 'For The Night', 'Hell Of A View', 'Made For You', 'No More Parties', 'Good Days', 'Starting Over', 'Diamonds Dancing', 'Goosebumps', 'Tombstone', \"Breaking Up Was Easy In The 90's\", 'Somebody Like That', 'Streets', \"What's Your Country Song\", 'Time Today', 'Telepatia', 'Cry Baby', 'Hold On', 'Street Runner', 'Just The Way', 'Proud Of You', 'Willow', 'Damage', 'Richer', 'Glad You Exist', 'La Noche de Anoche', 'Settling Down', 'Came And Saw', 'Headshot', 'Anyone', 'Down To One', 'Lady', 'Quicksand', 'One Too Many', 'Famous Friends', 'Gone', 'My Head And My Heart', 'Almost Maybes', 'Paid The Fine', 'The Business', \"Drunk (And I Don't Wanna Go Home)\", 'Masterpiece', 'pov', 'Long Live', 'Hellcats & Trackhawks', 'Follow You', \"Momma's House\", 'Nobody', 'Big Gangsta', 'Pick Up Your Feelings', 'Lil Bit', \"Mr. Perfectly Fine (Taylor's Version) (From The Vault)\", 'Chasing After You', 'Wasted On You', 'Run It Up', 'Arcade', 'You Got It', 'Go!', 'Drankin N Smokin', 'Monsters', 'Slatty', '4 Da Gang']\n",
      "['Polo G', 'Silk Sonic (Bruno Mars & Anderson .Paak)', 'Justin Bieber Featuring Daniel Caesar & Giveon', 'Lil Nas X', 'Dua Lipa Featuring DaBaby', 'The Weeknd', 'Masked Wolf', 'Doja Cat Featuring SZA', 'Cardi B', 'Olivia Rodrigo', 'Olivia Rodrigo', 'Young Thug & Gunna Featuring Drake', 'The Weeknd', 'SpotemGottem Featuring Pooh Shiesty Or DaBaby', 'Saweetie Featuring Doja Cat', 'Lil Tjay Featuring 6LACK', 'Pop Smoke', 'Young Thug & Gunna', '24kGoldn Featuring iann dior', 'Giveon', 'Gabby Barrett', 'Maroon 5 Featuring Megan Thee Stallion', 'Pooh Shiesty Featuring Lil Durk', 'Chris Brown & Young Thug', 'Tate McRae', 'Ariana Grande', 'Machine Gun Kelly X blackbear', 'Drake', 'Bad Bunny & Jhay Cortez', 'Billie Eilish', 'The Kid LAROI', 'Lil Baby', 'Ariana Grande', 'Yung Bleu Featuring Drake', 'Luke Combs', 'Drake Featuring Lil Baby', 'Mooski', 'Dua Lipa', 'Glass Animals', 'Pop Smoke Featuring Lil Baby & DaBaby', 'Eric Church', 'Jake Owen', 'Coi Leray Featuring Lil Durk', 'SZA', 'Chris Stapleton', 'Young Thug & Gunna Featuring Travis Scott', 'Travis Scott & HVME', 'Rod Wave', 'Sam Hunt', 'Tenille Arts', 'Doja Cat', 'Thomas Rhett', 'Moneybagg Yo', 'Kali Uchis', 'Megan Thee Stallion Featuring DaBaby', 'Justin Bieber', 'Rod Wave', 'Parmalee x Blanco Brown', 'Young Thug Featuring Lil Uzi Vert & Yung Kayo', 'Taylor Swift', 'H.E.R.', 'Rod Wave Featuring Polo G', 'Dan + Shay', 'Bad Bunny & Rosalia', 'Miranda Lambert', 'Young Thug Featuring Rowdy Rebel', 'Lil Tjay, Polo G & Fivio Foreign', 'Justin Bieber', 'Luke Bryan', 'Brett Young', 'Morray', 'Keith Urban Duet With P!nk', 'Chris Young + Kane Brown', 'Dierks Bentley', 'Ava Max', 'Jordan Davis', 'Young Thug & Gunna Featuring Lil Baby & YTB Trench', 'Tiesto', 'Elle King & Miranda Lambert', 'DaBaby', 'Ariana Grande', 'Florida Georgia Line', 'Lil Durk', 'Imagine Dragons', 'Dustin Lynch', 'Dylan Scott', 'Kevin Gates', 'Jazmine Sullivan', 'Nelly & Florida Georgia Line', 'Taylor Swift', 'Ryan Hurd With Maren Morris', 'Morgan Wallen', 'Lil Tjay Featuring Offset & Moneybagg Yo', 'Duncan Laurence', 'VEDO', 'Moneybagg Yo Featuring BIG30', 'Future & Lil Uzi Vert', 'All Time Low Featuring Demi Lovato & blackbear ', 'Young Thug & Gunna Featuring Yak Gotti & Lil Duke', '42 Dugg & Roddy Ricch']\n"
     ]
    }
   ],
   "source": [
    "print(title)\n",
    "print(artist)"
   ]
  },
  {
   "cell_type": "code",
   "execution_count": 15,
   "metadata": {},
   "outputs": [],
   "source": [
    "top_100_Billboard = pd.DataFrame({\"title\":title,\"artist\":artist })"
   ]
  },
  {
   "cell_type": "code",
   "execution_count": 16,
   "metadata": {},
   "outputs": [
    {
     "data": {
      "text/html": [
       "<div>\n",
       "<style scoped>\n",
       "    .dataframe tbody tr th:only-of-type {\n",
       "        vertical-align: middle;\n",
       "    }\n",
       "\n",
       "    .dataframe tbody tr th {\n",
       "        vertical-align: top;\n",
       "    }\n",
       "\n",
       "    .dataframe thead th {\n",
       "        text-align: right;\n",
       "    }\n",
       "</style>\n",
       "<table border=\"1\" class=\"dataframe\">\n",
       "  <thead>\n",
       "    <tr style=\"text-align: right;\">\n",
       "      <th></th>\n",
       "      <th>title</th>\n",
       "      <th>artist</th>\n",
       "    </tr>\n",
       "  </thead>\n",
       "  <tbody>\n",
       "    <tr>\n",
       "      <th>0</th>\n",
       "      <td>Rapstar</td>\n",
       "      <td>Polo G</td>\n",
       "    </tr>\n",
       "    <tr>\n",
       "      <th>1</th>\n",
       "      <td>Leave The Door Open</td>\n",
       "      <td>Silk Sonic (Bruno Mars &amp; Anderson .Paak)</td>\n",
       "    </tr>\n",
       "    <tr>\n",
       "      <th>2</th>\n",
       "      <td>Peaches</td>\n",
       "      <td>Justin Bieber Featuring Daniel Caesar &amp; Giveon</td>\n",
       "    </tr>\n",
       "    <tr>\n",
       "      <th>3</th>\n",
       "      <td>Montero (Call Me By Your Name)</td>\n",
       "      <td>Lil Nas X</td>\n",
       "    </tr>\n",
       "    <tr>\n",
       "      <th>4</th>\n",
       "      <td>Levitating</td>\n",
       "      <td>Dua Lipa Featuring DaBaby</td>\n",
       "    </tr>\n",
       "    <tr>\n",
       "      <th>...</th>\n",
       "      <td>...</td>\n",
       "      <td>...</td>\n",
       "    </tr>\n",
       "    <tr>\n",
       "      <th>95</th>\n",
       "      <td>Go!</td>\n",
       "      <td>Moneybagg Yo Featuring BIG30</td>\n",
       "    </tr>\n",
       "    <tr>\n",
       "      <th>96</th>\n",
       "      <td>Drankin N Smokin</td>\n",
       "      <td>Future &amp; Lil Uzi Vert</td>\n",
       "    </tr>\n",
       "    <tr>\n",
       "      <th>97</th>\n",
       "      <td>Monsters</td>\n",
       "      <td>All Time Low Featuring Demi Lovato &amp; blackbear</td>\n",
       "    </tr>\n",
       "    <tr>\n",
       "      <th>98</th>\n",
       "      <td>Slatty</td>\n",
       "      <td>Young Thug &amp; Gunna Featuring Yak Gotti &amp; Lil Duke</td>\n",
       "    </tr>\n",
       "    <tr>\n",
       "      <th>99</th>\n",
       "      <td>4 Da Gang</td>\n",
       "      <td>42 Dugg &amp; Roddy Ricch</td>\n",
       "    </tr>\n",
       "  </tbody>\n",
       "</table>\n",
       "<p>100 rows × 2 columns</p>\n",
       "</div>"
      ],
      "text/plain": [
       "                             title  \\\n",
       "0                          Rapstar   \n",
       "1              Leave The Door Open   \n",
       "2                          Peaches   \n",
       "3   Montero (Call Me By Your Name)   \n",
       "4                       Levitating   \n",
       "..                             ...   \n",
       "95                             Go!   \n",
       "96                Drankin N Smokin   \n",
       "97                        Monsters   \n",
       "98                          Slatty   \n",
       "99                       4 Da Gang   \n",
       "\n",
       "                                               artist  \n",
       "0                                              Polo G  \n",
       "1            Silk Sonic (Bruno Mars & Anderson .Paak)  \n",
       "2      Justin Bieber Featuring Daniel Caesar & Giveon  \n",
       "3                                           Lil Nas X  \n",
       "4                           Dua Lipa Featuring DaBaby  \n",
       "..                                                ...  \n",
       "95                       Moneybagg Yo Featuring BIG30  \n",
       "96                              Future & Lil Uzi Vert  \n",
       "97    All Time Low Featuring Demi Lovato & blackbear   \n",
       "98  Young Thug & Gunna Featuring Yak Gotti & Lil Duke  \n",
       "99                              42 Dugg & Roddy Ricch  \n",
       "\n",
       "[100 rows x 2 columns]"
      ]
     },
     "execution_count": 16,
     "metadata": {},
     "output_type": "execute_result"
    }
   ],
   "source": [
    "top_100_Billboard"
   ]
  },
  {
   "cell_type": "code",
   "execution_count": 17,
   "metadata": {},
   "outputs": [
    {
     "name": "stdout",
     "output_type": "stream",
     "text": [
      "Which song do you like most:Go!\n",
      "if you like Go! ,we recommend you to listen Cry Baby\n",
      "None\n"
     ]
    }
   ],
   "source": [
    "def popular_song(): \n",
    "    Rec = random.choice(title)\n",
    "    user_choice = input(str('Which song do you like most:'))\n",
    "    if user_choice not in (title):\n",
    "        print('The song is not in the list')\n",
    "    else:\n",
    "         print('if you like',user_choice, ',we recommend you to listen',Rec)\n",
    "print(popular_song())"
   ]
  }
 ],
 "metadata": {
  "kernelspec": {
   "display_name": "Python 3",
   "language": "python",
   "name": "python3"
  },
  "language_info": {
   "codemirror_mode": {
    "name": "ipython",
    "version": 3
   },
   "file_extension": ".py",
   "mimetype": "text/x-python",
   "name": "python",
   "nbconvert_exporter": "python",
   "pygments_lexer": "ipython3",
   "version": "3.8.5"
  }
 },
 "nbformat": 4,
 "nbformat_minor": 4
}
